{
 "cells": [
  {
   "cell_type": "markdown",
   "id": "bedb28ac",
   "metadata": {},
   "source": [
    "# 1. Story_Canvas"
   ]
  },
  {
   "cell_type": "markdown",
   "id": "8cff11de",
   "metadata": {},
   "source": [
    "# (1) "
   ]
  },
  {
   "cell_type": "code",
   "execution_count": 3,
   "id": "67695c2b",
   "metadata": {},
   "outputs": [],
   "source": [
    "import transformers\n",
    "import requests\n",
    "import PIL.Image\n",
    "import io"
   ]
  },
  {
   "cell_type": "code",
   "execution_count": 4,
   "id": "f0199ead",
   "metadata": {},
   "outputs": [],
   "source": [
    "# 1. Hugging Face의 free train 모델을 가져와서 기존의 소설을 학습한다.\n",
    "free_train_model = transformers.pipeline(\"text-generation\", model=\"EleutherAI/gpt-neo-1.3B\")"
   ]
  },
  {
   "cell_type": "code",
   "execution_count": 5,
   "id": "fa2db594",
   "metadata": {},
   "outputs": [],
   "source": [
    "# 2. Hugging Face의 free train, api를 활용하여 소설속 삽화를 위한 이미지를 학습한다.\n",
    "# 이미지 생성을 위한 API의 엔드포인트 URL입니다.\n",
    "API_ENDPOINT = \"https://api-inference.huggingface.co/models/vdbayar/gan-paint\"\n",
    "\n",
    "\n",
    "# 이미지 생성을 위한 함수\n",
    "def generate_image(text, model_name, api_endpoint):\n",
    "    # 모델과 API에 대한 요청을 만듦\n",
    "    model = transformers.AutoModelForImage2TextLM.from_pretrained(model_name)\n",
    "    input_dict = {\n",
    "        \"inputs\": text,\n",
    "        \"parameters\": {\n",
    "            \"max_new_images\": 1,\n",
    "            \"size\": \"512x512\"\n",
    "        }\n",
    "    }\n",
    "    headers = {\"Authorization\": f\"Bearer {api_endpoint}\"}\n",
    "    response = requests.post(API_ENDPOINT, json=input_dict, headers=headers)\n",
    "\n",
    "    # 반환된 이미지를 Pillow 객체로 변환\n",
    "    img_bytes = io.BytesIO(response.content)\n",
    "    img = PIL.Image.open(img_bytes)\n",
    "    return img"
   ]
  },
  {
   "cell_type": "code",
   "execution_count": 6,
   "id": "74ae9a58",
   "metadata": {},
   "outputs": [
    {
     "name": "stdout",
     "output_type": "stream",
     "text": [
      "선호하는 작가의 스타일을 입력하세요: Antoine de Saint-Exupéry\n",
      "주인공의 이름을 입력하세요: Moon\n",
      "선호하는 그림 스타일을 입력하세요: Vincent van Gogh\n"
     ]
    }
   ],
   "source": [
    "# 3. 사용자로부터 선호하는 작가의 스타일과, 주인공의 이름, 선호하는 그림 스타일을 입력 받는다.\n",
    "author_style = input(\"선호하는 작가의 스타일을 입력하세요: \")\n",
    "protagonist_name = input(\"주인공의 이름을 입력하세요: \")\n",
    "image_style = input(\"선호하는 그림 스타일을 입력하세요: \")"
   ]
  },
  {
   "cell_type": "code",
   "execution_count": 7,
   "id": "73a7b37e",
   "metadata": {},
   "outputs": [
    {
     "name": "stdout",
     "output_type": "stream",
     "text": [
      "첫 줄을 입력하세요: I decided to travel around the world on the morning of my twentieth birthday.\n"
     ]
    }
   ],
   "source": [
    "# 4. 사용자로부터 첫 줄을 입력 받는다.\n",
    "user_input = input(\"첫 줄을 입력하세요: \")"
   ]
  },
  {
   "cell_type": "code",
   "execution_count": 8,
   "id": "bf3ff0ed",
   "metadata": {},
   "outputs": [
    {
     "name": "stderr",
     "output_type": "stream",
     "text": [
      "Setting `pad_token_id` to `eos_token_id`:50256 for open-end generation.\n"
     ]
    }
   ],
   "source": [
    "# 5. 입력에 대한 단편 소설을 생성한다.\n",
    "novel = free_train_model(user_input, max_length=1000, num_return_sequences=1)"
   ]
  },
  {
   "cell_type": "code",
   "execution_count": 9,
   "id": "23e58d47",
   "metadata": {},
   "outputs": [],
   "source": [
    "# 6. 생성된 단편 소설을 10개로 나눈다.\n",
    "novel_sentences = novel[0]['generated_text'].split(\". \")\n",
    "novel_sentences = [sentence.strip() for sentence in novel_sentences]"
   ]
  },
  {
   "cell_type": "code",
   "execution_count": 10,
   "id": "e835a421",
   "metadata": {},
   "outputs": [
    {
     "name": "stderr",
     "output_type": "stream",
     "text": [
      "Setting `pad_token_id` to `eos_token_id`:50256 for open-end generation.\n",
      "Setting `pad_token_id` to `eos_token_id`:50256 for open-end generation.\n",
      "Setting `pad_token_id` to `eos_token_id`:50256 for open-end generation.\n",
      "Setting `pad_token_id` to `eos_token_id`:50256 for open-end generation.\n",
      "Setting `pad_token_id` to `eos_token_id`:50256 for open-end generation.\n",
      "Setting `pad_token_id` to `eos_token_id`:50256 for open-end generation.\n",
      "Input length of input_ids is 55, but ``max_length`` is set to 50.This can lead to unexpected behavior. You should consider increasing ``config.max_length`` or ``max_length``.\n",
      "Setting `pad_token_id` to `eos_token_id`:50256 for open-end generation.\n",
      "Setting `pad_token_id` to `eos_token_id`:50256 for open-end generation.\n",
      "Setting `pad_token_id` to `eos_token_id`:50256 for open-end generation.\n",
      "Setting `pad_token_id` to `eos_token_id`:50256 for open-end generation.\n",
      "Setting `pad_token_id` to `eos_token_id`:50256 for open-end generation.\n",
      "Setting `pad_token_id` to `eos_token_id`:50256 for open-end generation.\n",
      "Setting `pad_token_id` to `eos_token_id`:50256 for open-end generation.\n",
      "Input length of input_ids is 53, but ``max_length`` is set to 50.This can lead to unexpected behavior. You should consider increasing ``config.max_length`` or ``max_length``.\n",
      "Setting `pad_token_id` to `eos_token_id`:50256 for open-end generation.\n",
      "Setting `pad_token_id` to `eos_token_id`:50256 for open-end generation.\n",
      "Setting `pad_token_id` to `eos_token_id`:50256 for open-end generation.\n",
      "Setting `pad_token_id` to `eos_token_id`:50256 for open-end generation.\n",
      "Setting `pad_token_id` to `eos_token_id`:50256 for open-end generation.\n",
      "Setting `pad_token_id` to `eos_token_id`:50256 for open-end generation.\n",
      "Setting `pad_token_id` to `eos_token_id`:50256 for open-end generation.\n",
      "Setting `pad_token_id` to `eos_token_id`:50256 for open-end generation.\n",
      "Setting `pad_token_id` to `eos_token_id`:50256 for open-end generation.\n",
      "Setting `pad_token_id` to `eos_token_id`:50256 for open-end generation.\n",
      "Setting `pad_token_id` to `eos_token_id`:50256 for open-end generation.\n",
      "Setting `pad_token_id` to `eos_token_id`:50256 for open-end generation.\n",
      "Setting `pad_token_id` to `eos_token_id`:50256 for open-end generation.\n",
      "Setting `pad_token_id` to `eos_token_id`:50256 for open-end generation.\n",
      "Setting `pad_token_id` to `eos_token_id`:50256 for open-end generation.\n",
      "Setting `pad_token_id` to `eos_token_id`:50256 for open-end generation.\n",
      "Setting `pad_token_id` to `eos_token_id`:50256 for open-end generation.\n",
      "Setting `pad_token_id` to `eos_token_id`:50256 for open-end generation.\n",
      "Setting `pad_token_id` to `eos_token_id`:50256 for open-end generation.\n",
      "Setting `pad_token_id` to `eos_token_id`:50256 for open-end generation.\n",
      "Setting `pad_token_id` to `eos_token_id`:50256 for open-end generation.\n",
      "Setting `pad_token_id` to `eos_token_id`:50256 for open-end generation.\n",
      "Setting `pad_token_id` to `eos_token_id`:50256 for open-end generation.\n",
      "Input length of input_ids is 50, but ``max_length`` is set to 50.This can lead to unexpected behavior. You should consider increasing ``config.max_length`` or ``max_length``.\n",
      "Setting `pad_token_id` to `eos_token_id`:50256 for open-end generation.\n"
     ]
    }
   ],
   "source": [
    "# 7. 10개 각각을 요약한다.\n",
    "summary_sentences = []\n",
    "for sentence in novel_sentences:\n",
    "    summary = free_train_model(sentence, max_length=50, num_return_sequences=1)\n",
    "    summary_sentences.append(summary[0]['generated_text'].strip())"
   ]
  },
  {
   "cell_type": "code",
   "execution_count": 11,
   "id": "ec58bea6",
   "metadata": {},
   "outputs": [
    {
     "ename": "AttributeError",
     "evalue": "module transformers has no attribute AutoModelForImage2TextLM",
     "output_type": "error",
     "traceback": [
      "\u001b[0;31m---------------------------------------------------------------------------\u001b[0m",
      "\u001b[0;31mAttributeError\u001b[0m                            Traceback (most recent call last)",
      "\u001b[0;32m/tmp/ipykernel_127/1081828066.py\u001b[0m in \u001b[0;36m<module>\u001b[0;34m\u001b[0m\n\u001b[1;32m      3\u001b[0m \u001b[0mgenerated_images\u001b[0m \u001b[0;34m=\u001b[0m \u001b[0;34m[\u001b[0m\u001b[0;34m]\u001b[0m\u001b[0;34m\u001b[0m\u001b[0;34m\u001b[0m\u001b[0m\n\u001b[1;32m      4\u001b[0m \u001b[0;32mfor\u001b[0m \u001b[0msentence\u001b[0m \u001b[0;32min\u001b[0m \u001b[0msummary_sentences\u001b[0m\u001b[0;34m:\u001b[0m\u001b[0;34m\u001b[0m\u001b[0;34m\u001b[0m\u001b[0m\n\u001b[0;32m----> 5\u001b[0;31m     \u001b[0mimage\u001b[0m \u001b[0;34m=\u001b[0m \u001b[0mgenerate_image\u001b[0m\u001b[0;34m(\u001b[0m\u001b[0;34mf\"{author_style} 스타일의 {protagonist_name}가 {sentence}\"\u001b[0m\u001b[0;34m,\u001b[0m \u001b[0mmodel_name\u001b[0m\u001b[0;34m,\u001b[0m \u001b[0mimage_style\u001b[0m\u001b[0;34m)\u001b[0m\u001b[0;34m\u001b[0m\u001b[0;34m\u001b[0m\u001b[0m\n\u001b[0m\u001b[1;32m      6\u001b[0m     \u001b[0mgenerated_images\u001b[0m\u001b[0;34m.\u001b[0m\u001b[0mappend\u001b[0m\u001b[0;34m(\u001b[0m\u001b[0mimage\u001b[0m\u001b[0;34m)\u001b[0m\u001b[0;34m\u001b[0m\u001b[0;34m\u001b[0m\u001b[0m\n",
      "\u001b[0;32m/tmp/ipykernel_127/3560183417.py\u001b[0m in \u001b[0;36mgenerate_image\u001b[0;34m(text, model_name, api_endpoint)\u001b[0m\n\u001b[1;32m      7\u001b[0m \u001b[0;32mdef\u001b[0m \u001b[0mgenerate_image\u001b[0m\u001b[0;34m(\u001b[0m\u001b[0mtext\u001b[0m\u001b[0;34m,\u001b[0m \u001b[0mmodel_name\u001b[0m\u001b[0;34m,\u001b[0m \u001b[0mapi_endpoint\u001b[0m\u001b[0;34m)\u001b[0m\u001b[0;34m:\u001b[0m\u001b[0;34m\u001b[0m\u001b[0;34m\u001b[0m\u001b[0m\n\u001b[1;32m      8\u001b[0m     \u001b[0;31m# 모델과 API에 대한 요청을 만듦\u001b[0m\u001b[0;34m\u001b[0m\u001b[0;34m\u001b[0m\u001b[0m\n\u001b[0;32m----> 9\u001b[0;31m     \u001b[0mmodel\u001b[0m \u001b[0;34m=\u001b[0m \u001b[0mtransformers\u001b[0m\u001b[0;34m.\u001b[0m\u001b[0mAutoModelForImage2TextLM\u001b[0m\u001b[0;34m.\u001b[0m\u001b[0mfrom_pretrained\u001b[0m\u001b[0;34m(\u001b[0m\u001b[0mmodel_name\u001b[0m\u001b[0;34m)\u001b[0m\u001b[0;34m\u001b[0m\u001b[0;34m\u001b[0m\u001b[0m\n\u001b[0m\u001b[1;32m     10\u001b[0m     input_dict = {\n\u001b[1;32m     11\u001b[0m         \u001b[0;34m\"inputs\"\u001b[0m\u001b[0;34m:\u001b[0m \u001b[0mtext\u001b[0m\u001b[0;34m,\u001b[0m\u001b[0;34m\u001b[0m\u001b[0;34m\u001b[0m\u001b[0m\n",
      "\u001b[0;32m/opt/conda/lib/python3.9/site-packages/transformers/file_utils.py\u001b[0m in \u001b[0;36m__getattr__\u001b[0;34m(self, name)\u001b[0m\n\u001b[1;32m   2046\u001b[0m             \u001b[0mvalue\u001b[0m \u001b[0;34m=\u001b[0m \u001b[0mgetattr\u001b[0m\u001b[0;34m(\u001b[0m\u001b[0mmodule\u001b[0m\u001b[0;34m,\u001b[0m \u001b[0mname\u001b[0m\u001b[0;34m)\u001b[0m\u001b[0;34m\u001b[0m\u001b[0;34m\u001b[0m\u001b[0m\n\u001b[1;32m   2047\u001b[0m         \u001b[0;32melse\u001b[0m\u001b[0;34m:\u001b[0m\u001b[0;34m\u001b[0m\u001b[0;34m\u001b[0m\u001b[0m\n\u001b[0;32m-> 2048\u001b[0;31m             \u001b[0;32mraise\u001b[0m \u001b[0mAttributeError\u001b[0m\u001b[0;34m(\u001b[0m\u001b[0;34mf\"module {self.__name__} has no attribute {name}\"\u001b[0m\u001b[0;34m)\u001b[0m\u001b[0;34m\u001b[0m\u001b[0;34m\u001b[0m\u001b[0m\n\u001b[0m\u001b[1;32m   2049\u001b[0m \u001b[0;34m\u001b[0m\u001b[0m\n\u001b[1;32m   2050\u001b[0m         \u001b[0msetattr\u001b[0m\u001b[0;34m(\u001b[0m\u001b[0mself\u001b[0m\u001b[0;34m,\u001b[0m \u001b[0mname\u001b[0m\u001b[0;34m,\u001b[0m \u001b[0mvalue\u001b[0m\u001b[0;34m)\u001b[0m\u001b[0;34m\u001b[0m\u001b[0;34m\u001b[0m\u001b[0m\n",
      "\u001b[0;31mAttributeError\u001b[0m: module transformers has no attribute AutoModelForImage2TextLM"
     ]
    }
   ],
   "source": [
    "# 8. 요약된 문장에 대해 이미지를 생성하기 위해 GAN 모델로 이미지를 생성한다.\n",
    "model_name = \"vdbayar/gan-paint\"\n",
    "generated_images = []\n",
    "for sentence in summary_sentences:\n",
    "    image = generate_image(f\"{author_style} 스타일의 {protagonist_name}가 {sentence}\", model_name, image_style)\n",
    "    generated_images.append(image)"
   ]
  },
  {
   "cell_type": "code",
   "execution_count": 12,
   "id": "b089fc8c",
   "metadata": {},
   "outputs": [
    {
     "name": "stdout",
     "output_type": "stream",
     "text": [
      "소설 1: I decided to travel around the world on the morning of my twentieth birthday'\n",
      "소설 2: As it turned out I was in a pretty good mood and it took me an hour and a half to drive to the small town of Ithaca, NY'\n",
      "소설 3: I went there with the intention of taking a trip of a lifetime'\n",
      "소설 4: At the beginning of the trip I would have been perfectly happy to spend the day driving around Ithaca to see the sites that would have been a part of my childhood'\n",
      "소설 5: But as it turned out it was much more fun to see how the town looked from the outside from the car in the car in the car and in the car'\n",
      "소설 6: I was also lucky enough to have a great view from my window of the beautiful Cornell University campus.\n",
      "\n",
      "After driving around for a while I was pretty sure that I should come to a point at which I would be able to park the car and go look at the buildings'\n",
      "소설 7: I had already rented the car on vacation and I knew the price of admission to any of the buildings was quite reasonable'\n",
      "소설 8: I didn’t know the exact height of the buildings but I figured if I got to the top I could see just how high the buildings were'\n",
      "소설 9: I also guessed that if I was able to scale the buildings I could go over and around to the left side to see how the buildings connected to the outside of the campus'\n",
      "소설 10: This was not to be'\n"
     ]
    }
   ],
   "source": [
    "# 9. 10개로 나눠진 소설과, 해당 요약에 대한 이미지를 출력한다.\n",
    "for i in range(10):\n",
    "    print(f\"소설 {i+1}: {novel_sentences[i]}'\")\n",
    "#     generated_images[i].show()"
   ]
  },
  {
   "cell_type": "code",
   "execution_count": 13,
   "id": "eef9438b",
   "metadata": {
    "scrolled": false
   },
   "outputs": [
    {
     "name": "stdout",
     "output_type": "stream",
     "text": [
      "[{'generated_text': 'I decided to travel around the world on the morning of my twentieth birthday. As it turned out I was in a pretty good mood and it took me an hour and a half to drive to the small town of Ithaca, NY. I went there with the intention of taking a trip of a lifetime. At the beginning of the trip I would have been perfectly happy to spend the day driving around Ithaca to see the sites that would have been a part of my childhood. But as it turned out it was much more fun to see how the town looked from the outside from the car in the car in the car and in the car. I was also lucky enough to have a great view from my window of the beautiful Cornell University campus.\\n\\nAfter driving around for a while I was pretty sure that I should come to a point at which I would be able to park the car and go look at the buildings. I had already rented the car on vacation and I knew the price of admission to any of the buildings was quite reasonable. I didn’t know the exact height of the buildings but I figured if I got to the top I could see just how high the buildings were. I also guessed that if I was able to scale the buildings I could go over and around to the left side to see how the buildings connected to the outside of the campus. This was not to be. As soon as I got to the parking lot in front of the entrance to the Ithaca Public Library I found it to be a bit of a disappointment. It had a great view of the building but it looked like a large group of buildings with very little view of the city. I wasn’t too concerned with that and I left the car in the lot as I figured that the parking lot had more than enough space.\\n\\nI walked up to the library and looked through a sign in front of the building and saw the parking lot. It was quite a large and well paved lot with some benches on the sides. I didn’t see anyone on the benches and I decided to walk over to the closest bench to look at the view from the inside in. It wasn’t until I was almost at the top of the building that I spotted a college kid standing there looking at the building opposite the one I was looking at outside. I assumed that he had come over to the building I was looking at but I wasn’t sure.\\n\\nI approached the man who was standing in front of me. I could tell that he was a college student because of his backpack and he wasn’t wearing a jacket. The backpack was on the ground next to his feet. I was able to get around him just by placing my right foot on his backpack and pushing my left foot to the front of his backpack. When I pushed my left foot forward I found my left foot was right behind his. As I pushed my foot to the front I felt the material in my backpack come apart. It was a very loud audible sound, which was pretty much what I expected. The backpack fell to the ground and the boy with the backpack picked up my backpack and his feet and walked away. I could see him go down the road to his car.\\n\\nI had just found out that I had gone on a great adventure. I was able to see the buildings on the inside and I was able to get a view of the outside and I had some great pictures to go with my photographs. However, I was disappointed that I had to take my backpack down from inside the library to do that. I am glad though that I had something to leave in case I needed to go back later to see the inside.\\n\\nNext was an older lady who was just as surprised by the sound of my backpack coming apart as I was. She looked at my backpack and noticed that I had left some extra items in my backpack. I could tell this lady was a college student because she was wearing a backpack and she had her purse. She had some coins in the purse. When I asked her if she had any questions she said that she didn’t know what she was doing and she would be leaving the university soon. I asked her what she was doing and where she was going and she said that she was going to New York to see a movie with her husband. She also told me that it was a really long drive and she would be back very soon. I asked her if she had any questions and she said that she didn’t need to leave the university yet and she knew she would be in New York soon. Again, it was a long drive and she was getting into a really long lecture.\\n\\nI asked her what would happen after she finished that lecture and she told me that she would be going to the university and that she would be leaving very soon. I asked her if she had any questions and she said that'}]\n"
     ]
    }
   ],
   "source": [
    "print(novel)"
   ]
  }
 ],
 "metadata": {
  "kernelspec": {
   "display_name": "Python 3 (ipykernel)",
   "language": "python",
   "name": "python3"
  },
  "language_info": {
   "codemirror_mode": {
    "name": "ipython",
    "version": 3
   },
   "file_extension": ".py",
   "mimetype": "text/x-python",
   "name": "python",
   "nbconvert_exporter": "python",
   "pygments_lexer": "ipython3",
   "version": "3.9.7"
  }
 },
 "nbformat": 4,
 "nbformat_minor": 5
}
